{
 "cells": [
  {
   "cell_type": "markdown",
   "metadata": {},
   "source": [
    "## data preprocess"
   ]
  },
  {
   "cell_type": "code",
   "execution_count": 2,
   "metadata": {
    "collapsed": false,
    "execution": {
     "iopub.execute_input": "2023-07-30T14:02:12.513451Z",
     "iopub.status.busy": "2023-07-30T14:02:12.512797Z",
     "iopub.status.idle": "2023-07-30T14:02:57.649242Z",
     "shell.execute_reply": "2023-07-30T14:02:57.648100Z",
     "shell.execute_reply.started": "2023-07-30T14:02:12.513419Z"
    },
    "jupyter": {
     "outputs_hidden": false
    },
    "scrolled": true,
    "tags": []
   },
   "outputs": [],
   "source": [
    "# unzip dataset\n",
    "!unzip -oq -O CP936 ./C2Seg_AB.zip -d ./data/src/\n",
    "!unzip -oq -O CP936 ./C2Seg_AB.zip -d ./data/src/"
   ]
  },
  {
   "cell_type": "code",
   "execution_count": 6,
   "metadata": {
    "collapsed": false,
    "execution": {
     "iopub.execute_input": "2023-07-30T14:10:26.985483Z",
     "iopub.status.busy": "2023-07-30T14:10:26.984601Z",
     "iopub.status.idle": "2023-07-30T14:10:36.862207Z",
     "shell.execute_reply": "2023-07-30T14:10:36.861383Z",
     "shell.execute_reply.started": "2023-07-30T14:10:26.985442Z"
    },
    "jupyter": {
     "outputs_hidden": false
    },
    "scrolled": true,
    "tags": []
   },
   "outputs": [],
   "source": [
    "# install requirements.txt\n",
    "!pip install -r ./PaddleCD/requirements.txt"
   ]
  },
  {
   "cell_type": "code",
   "execution_count": null,
   "metadata": {
    "collapsed": false,
    "jupyter": {
     "outputs_hidden": false
    },
    "scrolled": true,
    "tags": []
   },
   "outputs": [],
   "source": [
    "# data statistics\n",
    "# !python ./work/data_sta.py"
   ]
  },
  {
   "cell_type": "code",
   "execution_count": null,
   "metadata": {
    "scrolled": true,
    "tags": []
   },
   "outputs": [],
   "source": [
    "# concat smi and sar images for training\n",
    "!python ./work/data_concat.py"
   ]
  },
  {
   "cell_type": "code",
   "execution_count": 16,
   "metadata": {
    "collapsed": false,
    "execution": {
     "iopub.execute_input": "2023-07-30T14:20:39.964583Z",
     "iopub.status.busy": "2023-07-30T14:20:39.963826Z",
     "iopub.status.idle": "2023-07-30T14:20:40.703329Z",
     "shell.execute_reply": "2023-07-30T14:20:40.702431Z",
     "shell.execute_reply.started": "2023-07-30T14:20:39.964553Z"
    },
    "jupyter": {
     "outputs_hidden": false
    },
    "scrolled": true,
    "tags": []
   },
   "outputs": [],
   "source": [
    "# split the dataset into train set and val set\n",
    "!python ./work/data_generate.py\n",
    "\n",
    "# copy existing files to ensure the same evaluation\n",
    "# !cp ./work/AB_val.txt ./data/src/val.txt\n",
    "# !cp ./work/AB_train.txt ./data/src/train.txt\n",
    "# !cp ./work/BW_val.txt ./data/src/val.txt\n",
    "# !cp ./work/BW_train.txt ./data/src/train.txt"
   ]
  },
  {
   "cell_type": "markdown",
   "metadata": {},
   "source": [
    "## model train"
   ]
  },
  {
   "cell_type": "code",
   "execution_count": 17,
   "metadata": {
    "collapsed": false,
    "execution": {
     "iopub.execute_input": "2023-07-30T14:21:01.629788Z",
     "iopub.status.busy": "2023-07-30T14:21:01.629008Z",
     "iopub.status.idle": "2023-07-30T14:21:01.633195Z",
     "shell.execute_reply": "2023-07-30T14:21:01.632560Z",
     "shell.execute_reply.started": "2023-07-30T14:21:01.629757Z"
    },
    "jupyter": {
     "outputs_hidden": false
    },
    "scrolled": true,
    "tags": []
   },
   "outputs": [],
   "source": [
    "# Configuration file path and model save path\n",
    "# COF_PATH = './PaddleCD/md_config/cxup_4b_AB_10k.yml'\n",
    "# MD_PATH = './best_model/cxup_4b_AB_10k.pdparams'\n",
    "COF_PATH = './PaddleCD/md_config/cxup_4b_BW.yml'\n",
    "MD_PATH = './best_model/cxup_4b_BW.pdparams'"
   ]
  },
  {
   "cell_type": "code",
   "execution_count": null,
   "metadata": {
    "collapsed": false,
    "jupyter": {
     "outputs_hidden": false
    },
    "scrolled": true,
    "tags": []
   },
   "outputs": [],
   "source": [
    "# 模型训练\n",
    "print(COF_PATH.center(100, '*'),'\\n\\n')\n",
    "print(MD_PATH.center(100, '*'),'\\n\\n')\n",
    "\n",
    "\n",
    "# 与paddlers训练轮数相同，训练时长55min\n",
    "!python ./PaddleCD/train.py \\\n",
    "       --save_dir ./data/output \\\n",
    "       --config $COF_PATH \\\n",
    "       --do_eval \\\n",
    "       --use_vdl \\\n",
    "       --iters 42000 \\\n",
    "       --save_interval 1600 \\\n",
    "       --batch_size=8 \\\n",
    "       --log_iters 50 \\\n",
    "       --num_workers 2 \\\n",
    "       --seed 1919810"
   ]
  },
  {
   "cell_type": "code",
   "execution_count": null,
   "metadata": {
    "collapsed": false,
    "jupyter": {
     "outputs_hidden": false
    },
    "scrolled": true,
    "tags": []
   },
   "outputs": [],
   "source": [
    "# save result\n",
    "!mkdir ./best_model/\n",
    "!cp ./data/output/best_model/model.pdparams $MD_PATH\n",
    "!find ./data/output -name '*.log' -exec cp -t ./model_log/ \"{}\" +"
   ]
  },
  {
   "cell_type": "markdown",
   "metadata": {},
   "source": [
    "## model val"
   ]
  },
  {
   "cell_type": "code",
   "execution_count": null,
   "metadata": {
    "scrolled": true,
    "tags": []
   },
   "outputs": [],
   "source": [
    "# 普通测试\n",
    "!python ./PaddleCD/val.py \\\n",
    "       --batch_size 1 \\\n",
    "       --config $COF_PATH \\\n",
    "       --model_path $MD_PATH"
   ]
  },
  {
   "cell_type": "code",
   "execution_count": null,
   "metadata": {
    "scrolled": true,
    "tags": []
   },
   "outputs": [],
   "source": [
    "# 普通测试\n",
    "!python ./PaddleCD/val.py \\\n",
    "       --batch_size 12 \\\n",
    "       --config $COF_PATH \\\n",
    "       --model_path $MD_PATH"
   ]
  },
  {
   "cell_type": "markdown",
   "metadata": {},
   "source": [
    "## inference"
   ]
  },
  {
   "cell_type": "code",
   "execution_count": null,
   "metadata": {
    "scrolled": true
   },
   "outputs": [],
   "source": [
    "# C2Seg_AB inference\n",
    "!python ./PaddleCD/predict.py \\\n",
    "       --config $COF_PATH \\\n",
    "       --model_path $MD_PATH \\\n",
    "       --image_path ./data/src/C2Seg_AB/test/msisar \\\n",
    "       --image_path2 ./data/src/C2Seg_AB/test/hsi \\\n",
    "       --batch_size 12 \\\n",
    "       --save_dir ./data/src/C2Seg_AB/result"
   ]
  },
  {
   "cell_type": "code",
   "execution_count": null,
   "metadata": {
    "scrolled": true,
    "tags": []
   },
   "outputs": [],
   "source": [
    "# C2Seg_BW inference\n",
    "!python ./PaddleCD/predict.py \\\n",
    "       --config $COF_PATH \\\n",
    "       --model_path $MD_PATH \\\n",
    "       --image_path ./data/src/C2Seg_BW/test/msisar \\\n",
    "       --image_path2 ./data/src/C2Seg_BW/test/hsi \\\n",
    "       --batch_size 12 \\\n",
    "       --save_dir ./data/src/C2Seg_BW/result"
   ]
  }
 ],
 "metadata": {
  "kernelspec": {
   "display_name": "Python 3 (ipykernel)",
   "language": "python",
   "name": "python3"
  },
  "language_info": {
   "codemirror_mode": {
    "name": "ipython",
    "version": 3
   },
   "file_extension": ".py",
   "mimetype": "text/x-python",
   "name": "python",
   "nbconvert_exporter": "python",
   "pygments_lexer": "ipython3",
   "version": "3.10.13"
  }
 },
 "nbformat": 4,
 "nbformat_minor": 4
}
